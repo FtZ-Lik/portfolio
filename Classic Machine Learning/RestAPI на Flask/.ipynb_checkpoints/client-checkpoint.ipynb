{
 "cells": [
  {
   "cell_type": "code",
   "execution_count": 1,
   "id": "9dcce4bc",
   "metadata": {},
   "outputs": [
    {
     "name": "stdout",
     "output_type": "stream",
     "text": [
      "Предсказание класса: 0 (0.2524967415639408)\n"
     ]
    }
   ],
   "source": [
    "import requests\n",
    "import pandas as pd\n",
    "from sklearn.model_selection import train_test_split\n",
    "\n",
    "# формируем запрос\n",
    "def send_json(input):\n",
    "    body = dict(input)\n",
    "    myurl = 'http://127.0.0.1:1123/predict'\n",
    "    headers = {'content-type': 'application/json; charset=utf-8'}\n",
    "    response = requests.post(myurl, json=body, headers=headers)\n",
    "    return response.json()\n",
    "\n",
    "client_df = pd.read_csv(\"./train_case2.csv\", sep=';')\n",
    "X_train, X_test, y_train, y_test = train_test_split(client_df.drop(['cardio', 'id'], axis=1), client_df['cardio'], random_state=42)\n",
    "\n",
    "response = send_json(X_test.iloc[21])\n",
    "print(f'Предсказание класса: {int(response[\"pred\"])} ({response[\"pred_proba\"]})')"
   ]
  }
 ],
 "metadata": {
  "kernelspec": {
   "display_name": "Python 3 (ipykernel)",
   "language": "python",
   "name": "python3"
  },
  "language_info": {
   "codemirror_mode": {
    "name": "ipython",
    "version": 3
   },
   "file_extension": ".py",
   "mimetype": "text/x-python",
   "name": "python",
   "nbconvert_exporter": "python",
   "pygments_lexer": "ipython3",
   "version": "3.9.17"
  }
 },
 "nbformat": 4,
 "nbformat_minor": 5
}
